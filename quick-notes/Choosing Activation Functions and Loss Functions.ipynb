{
 "cells": [
  {
   "cell_type": "markdown",
   "metadata": {
    "collapsed": true,
    "pycharm": {
     "name": "#%% md\n"
    }
   },
   "source": [
    "# What is Activation Functions and Loss Functions?<br>And how to pick the right one?\n",
    "\n",
    "<img src=\"../images/note/which one.png\" alt=\"Which one?\" />"
   ]
  },
  {
   "cell_type": "markdown",
   "source": [
    "## What is an Artificial Neural Network?\n",
    "<img src=\"../images/note/Multilayer Perceptron (MLP).png\" alt=\"Multilayer Perceptron (MLP)\" />"
   ],
   "metadata": {
    "collapsed": false
   }
  },
  {
   "cell_type": "markdown",
   "source": [
    "The above diagram is a Multilayer Perceptron (MLP).\n",
    "* An MLP must have at least three layers: the input layer, a hidden layer and the output layer.\n",
    "* They are fully connected\n",
    "* each node in one layer connects with a weight to every node in the next layer.\n",
    "\n",
    "Neural networks can learn complex patterns using layers of neurons which mathematically transform the data\n",
    "The layers between the input and output are referred to as “hidden layers”\n",
    "A neural network can learn relationships between the features that other algorithms cannot easily discover"
   ],
   "metadata": {
    "collapsed": false,
    "pycharm": {
     "name": "#%% md\n"
    }
   }
  },
  {
   "cell_type": "markdown",
   "source": [
    "## What is a Neuron?\n",
    "* It's a <strong>mathematical function</strong>\n",
    "* A sum of one or more inpust multiplies by the weights\n",
    "* This value is then passed to a non-linear function called <strong>activation function</strong>, to become neuron's output\n",
    "<img src=\"../images/note/neuron.png\" alt=\"What is a Neuron\" />\n",
    "\n",
    "* The x values refer to inputs, either the original features or inputs from a previous hidden layer\n",
    "* At each layer, there is also a bias b which can help better fit the data\n",
    "* The neuron passes the value a to all neurons it is connected to in the next layer, or returns it as the final value\n",
    "\n",
    "Starts with a linear equation\n",
    "\n",
    "<img src=\"../images/note/linear equation.png\" alt=\"Linear equation\" />\n",
    "\n",
    "Before adding a non-linear activation function:\n",
    "\n",
    "<img src=\"../images/note/non-linear activation function.png\" alt=\"non-linear activation function\" />"
   ],
   "metadata": {
    "collapsed": false,
    "pycharm": {
     "name": "#%% md\n"
    }
   }
  },
  {
   "cell_type": "markdown",
   "source": [
    "## What is an Activation Function?\n",
    "<ul>\n",
    "<li>An activation function is a non-linear function applied by a neuron to introduce non-linear properties in the network.\n",
    "<ul>\n",
    "<li>A relationship is linear if a change in the first variable corresponds to a constant change in the second variable. A non-linear relationship means that a change in the first variable doesn&rsquo;t necessarily correspond with a constant change in the second. However, they may impact each other but it appears to be unpredictable.</li>\n",
    "</ul>\n",
    "</li>\n",
    "</ul>\n",
    "<img src=\"../images/note/Linear function.png\" alt=\"linear and non-linear models\" />"
   ],
   "metadata": {
    "collapsed": false,
    "pycharm": {
     "name": "#%% md\n"
    }
   }
  },
  {
   "cell_type": "markdown",
   "source": [
    "<table>\n",
    "<th colspan=2>\n",
    "Neuron with and without activation fuction\n",
    "</th>\n",
    "<tr>\n",
    "  <td>\n",
    "<img src=\"../images/note/neuron without af.png\" alt=\"without activation function\">\n",
    "  </td>\n",
    "  <td>\n",
    "  <img src=\"../images/note/neuron with af.png\" alt=\"with activation function\">\n",
    "  </td>\n",
    "</tr>\n",
    "</table>"
   ],
   "metadata": {
    "collapsed": false,
    "pycharm": {
     "name": "#%% md\n"
    }
   }
  },
  {
   "cell_type": "markdown",
   "source": [
    "## Choosing the right activation function\n",
    "<img src=\"../images/note/activation function summary.png\" alt=\"What is a Neuron\" />"
   ],
   "metadata": {
    "collapsed": false,
    "pycharm": {
     "name": "#%% md\n"
    }
   }
  },
  {
   "cell_type": "markdown",
   "source": [
    "### Regression Predicting a numerical value\n",
    "\n",
    "E.g. Predicting the price of a product\n",
    "* The final layer of the neural network will have one neuron and the value it returns is a continuous numerical value.\n",
    "* To understand the accuracy of the prediction, it is compared with the true value which is also a continuous number.\n",
    "\n",
    "<img src=\"../images/note/regression predicting a numerical value.png\" alt=\"What is a Neuron\" />\n",
    "\n",
    "#### Chosen Activation Function\n",
    "<strong>Linear</strong> — This results in a numerical value which we require\n",
    "<img src=\"../images/note/Linear Activation Function.png\" alt=\"Linear AF\" />\n",
    "\n",
    "<strong>OR</strong>\n",
    "\n",
    "<strong>ReLU</strong> — This results in a numerical value greater than 0\n",
    "<img src=\"../images/note/Rectified Linear Unit (ReLU) Activation Function.png\" alt=\"ReLU AF\" />\n",
    "\n",
    "#### Loss Function\n",
    "<strong>Mean squared error (MSE)</strong> — This finds the average squared difference between the predicted value and the true value\n",
    "<img src=\"../images/note/Mean squared error (MSE).png\" alt=\"ReLU AF\" />"
   ],
   "metadata": {
    "collapsed": false,
    "pycharm": {
     "name": "#%% md\n"
    }
   }
  },
  {
   "cell_type": "markdown",
   "source": [
    "### Categorical: Predicting a binary outcome\n",
    "\n",
    "E.g. predicting a transaction is fraud or not\n",
    "* The final layer of the neural network will have one neuron and will return a value between 0 and 1, which can be inferred as a probably.\n",
    "* To understand the accuracy of the prediction, it is compared with the true value. If the data is that class, the true value is a 1, else it is a 0.\n",
    "\n",
    "<img src=\"../images/note/Categorical Predicting a binary outcome.png/\" alt=\"What is a Neuron\" />\n",
    "\n",
    "#### Chosen Activation Function\n",
    "<strong>Sigmoid </strong> — This results in a value between 0 and 1 which we can infer to be how confident the model is of the example being in the class\n",
    "<img src=\"../images/note/Sigmoid Activation Function.png\" alt=\"Sigmoid\" />\n",
    "\n",
    "#### Loss Function\n",
    "<strong>Binary Cross Entropy</strong> — Cross entropy quantifies the difference between two probability distribution. Our model predicts a model distribution of {p, 1-p} as we have a binary distribution. We use binary cross-entropy to compare this with the true distribution {y, 1-y}\n",
    "<img src=\"../images/note/Binary Cross Entropy.png\" alt=\"Binary Cross Entropy.png\" />"
   ],
   "metadata": {
    "collapsed": false,
    "pycharm": {
     "name": "#%% md\n"
    }
   }
  },
  {
   "cell_type": "code",
   "execution_count": null,
   "outputs": [],
   "source": [],
   "metadata": {
    "collapsed": false,
    "pycharm": {
     "name": "#%%\n"
    }
   }
  }
 ],
 "metadata": {
  "kernelspec": {
   "display_name": "Python 3",
   "language": "python",
   "name": "python3"
  },
  "language_info": {
   "codemirror_mode": {
    "name": "ipython",
    "version": 2
   },
   "file_extension": ".py",
   "mimetype": "text/x-python",
   "name": "python",
   "nbconvert_exporter": "python",
   "pygments_lexer": "ipython2",
   "version": "2.7.6"
  }
 },
 "nbformat": 4,
 "nbformat_minor": 0
}